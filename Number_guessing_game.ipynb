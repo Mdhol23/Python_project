{
  "nbformat": 4,
  "nbformat_minor": 0,
  "metadata": {
    "colab": {
      "provenance": [],
      "authorship_tag": "ABX9TyOdUHKAVsLXEOru9SR7In95",
      "include_colab_link": true
    },
    "kernelspec": {
      "name": "python3",
      "display_name": "Python 3"
    },
    "language_info": {
      "name": "python"
    }
  },
  "cells": [
    {
      "cell_type": "markdown",
      "metadata": {
        "id": "view-in-github",
        "colab_type": "text"
      },
      "source": [
        "<a href=\"https://colab.research.google.com/github/Mdhol23/Python_project/blob/main/Number_guessing_game.ipynb\" target=\"_parent\"><img src=\"https://colab.research.google.com/assets/colab-badge.svg\" alt=\"Open In Colab\"/></a>"
      ]
    },
    {
      "cell_type": "code",
      "execution_count": null,
      "metadata": {
        "id": "1HQEHlr7-vH-"
      },
      "outputs": [],
      "source": []
    },
    {
      "cell_type": "code",
      "execution_count": null,
      "metadata": {
        "colab": {
          "base_uri": "https://localhost:8080/"
        },
        "id": "zfJYY7wc75BX",
        "outputId": "daa7b7c5-5152-4f5a-b81c-f61cdc279b91"
      },
      "outputs": [
        {
          "output_type": "stream",
          "name": "stdout",
          "text": [
            "Guess a number between 1 and 100 (or 'q' to quit): q\n",
            "Thanks for playing!\n"
          ]
        }
      ],
      "source": [
        "import random\n",
        "\n",
        "# Generate a random number between 1 and 100\n",
        "number = random.randint(1, 100)\n",
        "\n",
        "# Keep track of the number of guesses\n",
        "num_guesses = 0\n",
        "\n",
        "# Loop until the user guesses the correct number\n",
        "while True:\n",
        "    # Ask the user to guess the number\n",
        "    guess = input(\"Guess a number between 1 and 100 (or 'q' to quit): \")\n",
        "\n",
        "    # If the user wants to quit, break out of the loop\n",
        "    if guess == \"q\":\n",
        "        print(\"Thanks for playing!\")\n",
        "        break\n",
        "\n",
        "    # Try to convert the user's guess to an integer\n",
        "    try:\n",
        "        guess = int(guess)\n",
        "    except ValueError:\n",
        "        print(\"Invalid input. Please enter a number between 1 and 100.\")\n",
        "        continue\n",
        "\n",
        "    # Increment the number of guesses\n",
        "    num_guesses += 1\n",
        "\n",
        "    # Check if the user's guess is too high or too low\n",
        "    if guess < number:\n",
        "        print(\"Too low. Guess again.\")\n",
        "    elif guess > number:\n",
        "        print(\"Too high. Guess again.\")\n",
        "    else:\n",
        "        # The user guessed the correct number!\n",
        "        print(f\"Congratulations! You guessed the number in {num_guesses} guesses.\")\n",
        "        break\n"
      ]
    }
  ]
}